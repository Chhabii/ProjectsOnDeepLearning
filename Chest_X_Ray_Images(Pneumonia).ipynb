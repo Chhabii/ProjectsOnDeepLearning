{
  "nbformat": 4,
  "nbformat_minor": 0,
  "metadata": {
    "colab": {
      "name": "Chest X-Ray Images(Pneumonia).ipynb",
      "provenance": [],
      "mount_file_id": "https://github.com/RxnAch/ProjectsOnDeepLearning/blob/main/Chest_X_Ray_Images(Pneumonia).ipynb",
      "authorship_tag": "ABX9TyNi2mM5DQXrsugX8+feRPWO",
      "include_colab_link": true
    },
    "kernelspec": {
      "name": "python3",
      "display_name": "Python 3"
    },
    "language_info": {
      "name": "python"
    },
    "accelerator": "GPU"
  },
  "cells": [
    {
      "cell_type": "markdown",
      "metadata": {
        "id": "view-in-github",
        "colab_type": "text"
      },
      "source": [
        "<a href=\"https://colab.research.google.com/github/RxnAch/ProjectsOnDeepLearning/blob/main/Chest_X_Ray_Images(Pneumonia).ipynb\" target=\"_parent\"><img src=\"https://colab.research.google.com/assets/colab-badge.svg\" alt=\"Open In Colab\"/></a>"
      ]
    },
    {
      "cell_type": "markdown",
      "metadata": {
        "id": "fvgBlIuQ10S_"
      },
      "source": [
        "#Import Libraries"
      ]
    },
    {
      "cell_type": "code",
      "metadata": {
        "id": "i8Un7IbU_0Q7"
      },
      "source": [
        "%matplotlib inline\n",
        "import copy\n",
        "import matplotlib.pyplot as plt\n",
        "import numpy as np\n",
        "import pandas as pd\n",
        "import os\n",
        "import seaborn as sns\n",
        "import skimage\n",
        "from skimage import io, transform \n",
        "from sklearn.metrics import confusion_matrix\n",
        "import torch\n",
        "import torch.nn as nn\n",
        "import torch.optim as optim\n",
        "import torchvision\n",
        "from torchvision import datasets,models,transforms"
      ],
      "execution_count": 2,
      "outputs": []
    },
    {
      "cell_type": "markdown",
      "metadata": {
        "id": "a8mnleC613t-"
      },
      "source": [
        "#Load Dataset \n",
        "- test set\n",
        "- train set\n",
        "- validation set"
      ]
    },
    {
      "cell_type": "code",
      "metadata": {
        "id": "khXP7jEROIzo"
      },
      "source": [
        "data_dir = \"/content/drive/MyDrive/datasets/kaggle_dataset/ChestXray/chest_xray/chest_xray\"\n",
        "TEST = 'test'\n",
        "TRAIN = 'train'\n",
        "VAL = 'val'"
      ],
      "execution_count": 3,
      "outputs": []
    },
    {
      "cell_type": "markdown",
      "metadata": {
        "id": "MSJCqFaE2HAG"
      },
      "source": [
        "#Data Preprocessing and Augmentation\n",
        "\n",
        "Deeplearning models requires a lot of data.In fact,the more the data,the better the performance of the model.\n",
        "\n",
        "Image Augmentation is the process of generating new images for training our deep learning models. These images are generated using the existing training images and hence we don't have to collect them manually."
      ]
    },
    {
      "cell_type": "markdown",
      "metadata": {
        "id": "_Rr3KysU5uAI"
      },
      "source": [
        "**transforms.Compose** just clubs all the transforms provided to it. So, all the transforms in the transforms.Compose are applied to the input one by one.\n",
        "\n",
        "#**Train transforms**\n",
        "**transforms.RandomResizedCrop(224)**:\n",
        "\n",
        " This will extract a patch of size (224, 224) from your input image randomly. So, it might pick this path from topleft, bottomright or anywhere in between. So, you are doing data augmentation in this part. Also, changing this value won't play nice with the fully-connected layers in your model, so not advised to change this.\n",
        "\n",
        "**transforms.RandomHorizontalFlip():** \n",
        "\n",
        "Once we have our image of size (224, 224), we can choose to flip it. This is another part of data augmentation.\n",
        "transforms.ToTensor(): This just converts your input image to PyTorch tensor.\n",
        "\n",
        "\n",
        "**transforms.Normalize([0.485, 0.456, 0.406], [0.229, 0.224, 0.225]):** This is just input data scaling and these values (mean and std) must have been precomputed for your dataset. Changing these values is also not advised.\n",
        "\n",
        "#**Validation transforms**\n",
        "**transforms.Resize(256):**\n",
        "\n",
        " First your input image is resized to be of size (256, 256)\n",
        "**transforms.CentreCrop(224):** \n",
        "\n",
        "Crops the center part of the image of shape (224, 224)"
      ]
    },
    {
      "cell_type": "code",
      "metadata": {
        "id": "KjDJng4qTX9H",
        "outputId": "cef21297-6084-4975-dd9c-4fba4d73ff4b",
        "colab": {
          "base_uri": "https://localhost:8080/"
        }
      },
      "source": [
        "def data_transforms(phase):\n",
        "  if phase == TRAIN:\n",
        "    transform = transforms.Compose([\n",
        "        transforms.Resize(256),\n",
        "        transforms.CenterCrop(224),\n",
        "        transforms.ToTensor(),\n",
        "        transforms.Normalize([0.485, 0.456, 0.406], [0.229, 0.224, 0.225]),\n",
        "    ])\n",
        "  if phase == VAL:\n",
        "    transform = transforms.Compose([\n",
        "         transforms.Resize(256),\n",
        "         transforms.CenterCrop(224),\n",
        "         transforms.ToTensor(),\n",
        "         transforms.Normalize([0.485, 0.456, 0.406], [0.229, 0.224, 0.225])\n",
        "    ])\n",
        "\n",
        "  if phase == TEST:\n",
        "    transform = transforms.Compose([\n",
        "         transforms.Resize(256),\n",
        "         transforms.CenterCrop(224),\n",
        "         transforms.ToTensor(),\n",
        "         transforms.Normalize([0.485, 0.456, 0.406], [0.229, 0.224, 0.225])\n",
        "    ])\n",
        "\n",
        "  return transform\n",
        "\n",
        "device = torch.device(\"cuda:0\" if torch.cuda.is_available() else \"cpu\")\n",
        "print(device)"
      ],
      "execution_count": 4,
      "outputs": [
        {
          "output_type": "stream",
          "text": [
            "cuda:0\n"
          ],
          "name": "stdout"
        }
      ]
    },
    {
      "cell_type": "code",
      "metadata": {
        "id": "iSsY9fq4vJjG"
      },
      "source": [
        "image_datasets = {x:datasets.ImageFolder(os.path.join(data_dir,x),data_transforms(x))\n",
        "                  for x in [TRAIN,VAL,TEST]}\n",
        "dataloaders = {\n",
        "    TRAIN:torch.utils.data.DataLoader(image_datasets[TRAIN],batch_size = 4,shuffle = True),\n",
        "    VAL: torch.utils.data.DataLoader(image_datasets[VAL],batch_size = 1,shuffle=True),\n",
        "    TEST :torch.utils.data.DataLoader(image_datasets[TEST],batch_size=1,shuffle = True)\n",
        "}"
      ],
      "execution_count": 7,
      "outputs": []
    },
    {
      "cell_type": "code",
      "metadata": {
        "id": "oAj8kuLf4hg2",
        "outputId": "8d320144-af57-4aa3-c3ee-7bfe4dd9968a",
        "colab": {
          "base_uri": "https://localhost:8080/"
        }
      },
      "source": [
        "len(dataloaders[TRAIN]),len(dataloaders[TEST]),len(dataloaders[VAL])"
      ],
      "execution_count": 16,
      "outputs": [
        {
          "output_type": "execute_result",
          "data": {
            "text/plain": [
              "(1304, 624, 16)"
            ]
          },
          "metadata": {
            "tags": []
          },
          "execution_count": 16
        }
      ]
    },
    {
      "cell_type": "code",
      "metadata": {
        "id": "QPch3Mey5np-"
      },
      "source": [
        "dataset_sizes = {x:len(image_datasets[x]) for x in [TRAIN,VAL]}\n",
        "classes = image_datasets[TRAIN].classes\n",
        "class_names = image_datasets[TRAIN].classes"
      ],
      "execution_count": 17,
      "outputs": []
    },
    {
      "cell_type": "markdown",
      "metadata": {
        "id": "EuPrUObL7krb"
      },
      "source": [
        "#Visualize the Chest X-rays"
      ]
    },
    {
      "cell_type": "markdown",
      "metadata": {
        "id": "yFGj0t2E_13m"
      },
      "source": [
        "[transpose](https://stackoverflow.com/questions/32034237/how-does-numpys-transpose-method-permute-the-axes-of-an-array)"
      ]
    },
    {
      "cell_type": "code",
      "metadata": {
        "id": "plMY5n4g6oHD",
        "outputId": "fb684c93-4522-44df-c16a-10823da8c4d4",
        "colab": {
          "base_uri": "https://localhost:8080/",
          "height": 148
        }
      },
      "source": [
        "def imshow(inp,title = None):\n",
        "  inp = inp.numpy().transpose((1,2,0)) \n",
        "  mean = np.array([0.485, 0.456, 0.406])\n",
        "  std = np.array([0.229, 0.224, 0.225])\n",
        "  inp = std * inp + mean\n",
        "  inp = np.clip(inp,0,1)\n",
        "  plt.imshow(inp)\n",
        "  if title is not None:\n",
        "    plt.title(title)\n",
        "  plt.pause(0.001)\n",
        "inputs,classes = next(iter(dataloaders[TRAIN]))\n",
        "out = torchvision.utils.make_grid(inputs)\n",
        "imshow(out,title = [class_names[x] for x in classes])"
      ],
      "execution_count": 23,
      "outputs": [
        {
          "output_type": "display_data",
          "data": {
            "image/png": "[encoded data removed]",
            "text/plain": [
              "<Figure size 432x288 with 1 Axes>"
            ]
          },
          "metadata": {
            "tags": [],
            "needs_background": "light"
          }
        }
      ]
    },
    {
      "cell_type": "code",
      "metadata": {
        "id": "fPjkdHBlBxSn"
      },
      "source": [
        ""
      ],
      "execution_count": null,
      "outputs": []
    }
  ]
}